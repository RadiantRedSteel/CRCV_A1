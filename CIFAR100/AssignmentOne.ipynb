{
 "nbformat": 4,
 "nbformat_minor": 0,
 "metadata": {
  "colab": {
   "provenance": [],
   "gpuType": "T4"
  },
  "kernelspec": {
   "name": "python3",
   "display_name": "Python 3 (ipykernel)",
   "language": "python"
  },
  "language_info": {
   "name": "python"
  },
  "accelerator": "GPU",
  "gpuClass": "standard"
 },
 "cells": [
  {
   "cell_type": "markdown",
   "source": [
    "# Import necessary libraries"
   ],
   "metadata": {
    "id": "ulVQ2BfvkE2t"
   }
  },
  {
   "cell_type": "code",
   "metadata": {
    "id": "UdYIDhWFiQi-",
    "ExecuteTime": {
     "end_time": "2024-05-27T21:46:08.828796Z",
     "start_time": "2024-05-27T21:46:05.846954Z"
    }
   },
   "source": [
    "import keras\n",
    "# from keras import regularizers\n",
    "from keras.models import Sequential\n",
    "from keras.layers import Activation, Dense, Dropout, Conv2D, Flatten, MaxPooling2D, BatchNormalization\n",
    "from keras.datasets import cifar100\n",
    "# from keras import optimizers\n",
    "from keras.utils import to_categorical\n",
    "from matplotlib import pyplot as plt\n",
    "\n",
    "import numpy as np\n",
    "# from keras import backend as k\n",
    "# from tensorflow.keras.losses import categorical_crossentropy\n",
    "# from tensorflow.keras.optimizers import Adam\n",
    "\n",
    "from tensorflow.keras.callbacks import Callback, EarlyStopping\n",
    "import tensorflow as tf\n",
    "import datetime, os"
   ],
   "outputs": [],
   "execution_count": 1
  },
  {
   "metadata": {
    "ExecuteTime": {
     "end_time": "2024-05-27T21:46:09.920337Z",
     "start_time": "2024-05-27T21:46:09.497586Z"
    }
   },
   "cell_type": "code",
   "source": [
    "# Load our previous training model\n",
    "from keras.models import load_model\n",
    "\n",
    "# Load the saved model\n",
    "model = load_model('best_conv.h5')\n",
    "\n",
    "# Print the model summary\n",
    "model.summary()"
   ],
   "outputs": [
    {
     "name": "stdout",
     "output_type": "stream",
     "text": [
      "Model: \"sequential\"\n",
      "_________________________________________________________________\n",
      " Layer (type)                Output Shape              Param #   \n",
      "=================================================================\n",
      " conv2d (Conv2D)             (None, 30, 30, 32)        896       \n",
      "                                                                 \n",
      " max_pooling2d (MaxPooling2D  (None, 15, 15, 32)       0         \n",
      " )                                                               \n",
      "                                                                 \n",
      " batch_normalization (BatchN  (None, 15, 15, 32)       128       \n",
      " ormalization)                                                   \n",
      "                                                                 \n",
      " dropout (Dropout)           (None, 15, 15, 32)        0         \n",
      "                                                                 \n",
      " conv2d_1 (Conv2D)           (None, 13, 13, 64)        18496     \n",
      "                                                                 \n",
      " max_pooling2d_1 (MaxPooling  (None, 6, 6, 64)         0         \n",
      " 2D)                                                             \n",
      "                                                                 \n",
      " batch_normalization_1 (Batc  (None, 6, 6, 64)         256       \n",
      " hNormalization)                                                 \n",
      "                                                                 \n",
      " dropout_1 (Dropout)         (None, 6, 6, 64)          0         \n",
      "                                                                 \n",
      " conv2d_2 (Conv2D)           (None, 4, 4, 128)         73856     \n",
      "                                                                 \n",
      " max_pooling2d_2 (MaxPooling  (None, 2, 2, 128)        0         \n",
      " 2D)                                                             \n",
      "                                                                 \n",
      " batch_normalization_2 (Batc  (None, 2, 2, 128)        512       \n",
      " hNormalization)                                                 \n",
      "                                                                 \n",
      " dropout_2 (Dropout)         (None, 2, 2, 128)         0         \n",
      "                                                                 \n",
      " flatten (Flatten)           (None, 512)               0         \n",
      "                                                                 \n",
      " batch_normalization_3 (Batc  (None, 512)              2048      \n",
      " hNormalization)                                                 \n",
      "                                                                 \n",
      " dense (Dense)               (None, 100)               51300     \n",
      "                                                                 \n",
      "=================================================================\n",
      "Total params: 147,492\n",
      "Trainable params: 146,020\n",
      "Non-trainable params: 1,472\n",
      "_________________________________________________________________\n"
     ]
    }
   ],
   "execution_count": 2
  },
  {
   "metadata": {
    "ExecuteTime": {
     "end_time": "2024-05-27T21:46:10.799319Z",
     "start_time": "2024-05-27T21:46:10.789801Z"
    }
   },
   "cell_type": "code",
   "source": [
    "# Load the training history\n",
    "import h5py\n",
    "\n",
    "# Load the history from the .h5 file\n",
    "with h5py.File('C:\\\\Users\\\\Brett\\\\PycharmProjects\\\\CV_Assignment1\\\\best_conv.h5', 'r') as file:\n",
    "    print(\"Available datasets in the file:\")\n",
    "    for dataset_name in file.keys():\n",
    "        print(dataset_name)"
   ],
   "outputs": [
    {
     "name": "stdout",
     "output_type": "stream",
     "text": [
      "Available datasets in the file:\n",
      "model_weights\n",
      "optimizer_weights\n"
     ]
    }
   ],
   "execution_count": 3
  },
  {
   "cell_type": "markdown",
   "source": [
    "# Load training data"
   ],
   "metadata": {
    "id": "5rwnt69mkI_j"
   }
  },
  {
   "cell_type": "code",
   "source": [
    "batch_size = 128\n",
    "num_classes = 100\n",
    "epochs = 200\n",
    "\n",
    "# Load data and view the shapes\n",
    "(x_train, y_train), (x_test, y_test) = cifar100.load_data()\n",
    "\n",
    "print(\"x_train original shape\", x_train.shape)\n",
    "print(\"y_train original shape\", y_train.shape)"
   ],
   "metadata": {
    "id": "nwTTXkDAkDV7",
    "ExecuteTime": {
     "end_time": "2024-05-27T21:46:13.469806Z",
     "start_time": "2024-05-27T21:46:13.265667Z"
    }
   },
   "outputs": [
    {
     "name": "stdout",
     "output_type": "stream",
     "text": [
      "x_train original shape (50000, 32, 32, 3)\n",
      "y_train original shape (50000, 1)\n"
     ]
    }
   ],
   "execution_count": 4
  },
  {
   "cell_type": "code",
   "source": [
    "img_width, img_height, img_num_channels = x_train.shape[1:4]\n",
    "input_shape = (img_width, img_height, img_num_channels)"
   ],
   "metadata": {
    "id": "_Kfv7Tx9z8Yp",
    "ExecuteTime": {
     "end_time": "2024-05-27T21:46:14.124550Z",
     "start_time": "2024-05-27T21:46:14.113444Z"
    }
   },
   "outputs": [],
   "execution_count": 5
  },
  {
   "cell_type": "code",
   "source": [
    "# Visualize the first 5 elements in our data\n",
    "for i in range(5):\n",
    "    plt.subplot(3,3,i+1)\n",
    "    plt.imshow(x_train[i], cmap='gray', interpolation='none')"
   ],
   "metadata": {
    "id": "QXMbGO7Mpa0q",
    "ExecuteTime": {
     "end_time": "2024-05-27T21:46:15.184501Z",
     "start_time": "2024-05-27T21:46:14.769571Z"
    }
   },
   "outputs": [
    {
     "data": {
      "text/plain": [
       "<Figure size 640x480 with 5 Axes>"
      ],
      "image/png": "[encoded data removed]"
     },
     "metadata": {},
     "output_type": "display_data"
    }
   ],
   "execution_count": 6
  },
  {
   "cell_type": "markdown",
   "source": [
    "# Format the data for training\n"
   ],
   "metadata": {
    "id": "wFYGf1VtsnA6"
   }
  },
  {
   "cell_type": "markdown",
   "source": [
    "- Converting to float32 and performing normalization ensures our data is in the correct format for our neural network.\n",
    "\n"
   ],
   "metadata": {
    "id": "TQh7KAo3-1hf"
   }
  },
  {
   "cell_type": "code",
   "source": [
    "# 1. Conversion of the dataset to float 32\n",
    "x_train = x_train.astype('float32')\n",
    "x_test = x_test.astype('float32')\n",
    "\n",
    "# 2. Normalization\n",
    "# This function normalize inputs for zero mean and unit variance\n",
    "# It is used when training a model.\n",
    "# Input: training set and test set\n",
    "# Output: normalized training set and test set according to the training set statistics.\n",
    "mean = np.mean(x_train, axis=(0, 1, 2, 3))\n",
    "std = np.std(x_train, axis=(0, 1, 2, 3))\n",
    "print(mean)\n",
    "print(std)\n",
    "x_train = (x_train-mean)/(std+1e-7)\n",
    "x_test = (x_test-mean)/(std+1e-7)\n",
    "\n",
    "print('x_train shape:', x_train.shape)\n",
    "print(x_train.shape[0], 'train samples')\n",
    "print(x_test.shape[0], 'test samples')"
   ],
   "metadata": {
    "id": "-Mr7Hlgssrej",
    "ExecuteTime": {
     "end_time": "2024-05-27T21:46:20.852077Z",
     "start_time": "2024-05-27T21:46:19.763717Z"
    }
   },
   "outputs": [
    {
     "name": "stdout",
     "output_type": "stream",
     "text": [
      "121.93584\n",
      "68.38902\n",
      "x_train shape: (50000, 32, 32, 3)\n",
      "50000 train samples\n",
      "10000 test samples\n"
     ]
    }
   ],
   "execution_count": 7
  },
  {
   "cell_type": "markdown",
   "source": [
    "One-Hot format: Represent categorical variables as binary vectors. It is used for the multi-class classification problems.\n",
    "\n",
    "* \"cat\" -> [1, 0, 0]\n",
    "* \"dog\" -> [0, 1, 0]\n",
    "* \"bird\" -> [0, 0, 1]"
   ],
   "metadata": {
    "id": "ITBmEwZyAYB0"
   }
  },
  {
   "cell_type": "code",
   "source": [
    "# Modify the label vectors to be in the one-hot format (fill out below)\n",
    "y_train = keras.utils.to_categorical(y_train, num_classes)\n",
    "y_test = keras.utils.to_categorical(y_test, num_classes)\n",
    "\n",
    "print(y_train)\n",
    "print(y_test)"
   ],
   "metadata": {
    "id": "yuQmiKpuASST",
    "ExecuteTime": {
     "end_time": "2024-05-27T21:46:22.649373Z",
     "start_time": "2024-05-27T21:46:22.631666Z"
    }
   },
   "outputs": [
    {
     "name": "stdout",
     "output_type": "stream",
     "text": [
      "[[0. 0. 0. ... 0. 0. 0.]\n",
      " [0. 0. 0. ... 0. 0. 0.]\n",
      " [1. 0. 0. ... 0. 0. 0.]\n",
      " ...\n",
      " [0. 0. 0. ... 0. 0. 0.]\n",
      " [0. 0. 0. ... 0. 0. 0.]\n",
      " [0. 0. 0. ... 0. 0. 0.]]\n",
      "[[0. 0. 0. ... 0. 0. 0.]\n",
      " [0. 0. 0. ... 0. 0. 0.]\n",
      " [0. 0. 0. ... 0. 0. 0.]\n",
      " ...\n",
      " [0. 0. 0. ... 0. 0. 0.]\n",
      " [0. 0. 0. ... 0. 0. 0.]\n",
      " [0. 0. 0. ... 0. 0. 0.]]\n"
     ]
    }
   ],
   "execution_count": 8
  },
  {
   "cell_type": "markdown",
   "source": [
    "# Build a sequential convolutional model"
   ],
   "metadata": {
    "id": "el3Rp4jWCJ-q"
   }
  },
  {
   "cell_type": "code",
   "source": [
    "model = Sequential()\n",
    "\n",
    "# first block\n",
    "model.add(Conv2D(32, (3, 3), activation='relu', input_shape=(32, 32, 3)))\n",
    "model.add(MaxPooling2D((2, 2)))\n",
    "model.add(BatchNormalization())\n",
    "model.add(Dropout(0.3))\n",
    "\n",
    "# second block\n",
    "model.add(Conv2D(64, (3, 3), activation='relu'))\n",
    "model.add(MaxPooling2D((2, 2)))\n",
    "model.add(BatchNormalization())\n",
    "model.add(Dropout(0.3))\n",
    "\n",
    "# third block\n",
    "model.add(Conv2D(128, (3, 3), activation='relu'))\n",
    "model.add(MaxPooling2D((2, 2)))\n",
    "model.add(BatchNormalization())\n",
    "model.add(Dropout(0.4))\n",
    "\n",
    "# flatten to 1D vector\n",
    "model.add(Flatten())\n",
    "model.add(BatchNormalization())\n",
    "\n",
    "# output layer\n",
    "model.add(Dense(num_classes, activation='softmax'))  # 100 classes in CIFAR-100\n",
    "\n",
    "print(model.summary())"
   ],
   "metadata": {
    "id": "B-wFjhnNIR-a",
    "ExecuteTime": {
     "end_time": "2024-05-27T21:45:42.423770Z",
     "start_time": "2024-05-27T21:45:42.285020Z"
    }
   },
   "outputs": [
    {
     "name": "stdout",
     "output_type": "stream",
     "text": [
      "Model: \"sequential\"\n",
      "_________________________________________________________________\n",
      " Layer (type)                Output Shape              Param #   \n",
      "=================================================================\n",
      " conv2d (Conv2D)             (None, 30, 30, 32)        896       \n",
      "                                                                 \n",
      " max_pooling2d (MaxPooling2D  (None, 15, 15, 32)       0         \n",
      " )                                                               \n",
      "                                                                 \n",
      " batch_normalization (BatchN  (None, 15, 15, 32)       128       \n",
      " ormalization)                                                   \n",
      "                                                                 \n",
      " dropout (Dropout)           (None, 15, 15, 32)        0         \n",
      "                                                                 \n",
      " conv2d_1 (Conv2D)           (None, 13, 13, 64)        18496     \n",
      "                                                                 \n",
      " max_pooling2d_1 (MaxPooling  (None, 6, 6, 64)         0         \n",
      " 2D)                                                             \n",
      "                                                                 \n",
      " batch_normalization_1 (Batc  (None, 6, 6, 64)         256       \n",
      " hNormalization)                                                 \n",
      "                                                                 \n",
      " dropout_1 (Dropout)         (None, 6, 6, 64)          0         \n",
      "                                                                 \n",
      " conv2d_2 (Conv2D)           (None, 4, 4, 128)         73856     \n",
      "                                                                 \n",
      " max_pooling2d_2 (MaxPooling  (None, 2, 2, 128)        0         \n",
      " 2D)                                                             \n",
      "                                                                 \n",
      " batch_normalization_2 (Batc  (None, 2, 2, 128)        512       \n",
      " hNormalization)                                                 \n",
      "                                                                 \n",
      " dropout_2 (Dropout)         (None, 2, 2, 128)         0         \n",
      "                                                                 \n",
      " flatten (Flatten)           (None, 512)               0         \n",
      "                                                                 \n",
      " batch_normalization_3 (Batc  (None, 512)              2048      \n",
      " hNormalization)                                                 \n",
      "                                                                 \n",
      " dense (Dense)               (None, 100)               51300     \n",
      "                                                                 \n",
      "=================================================================\n",
      "Total params: 147,492\n",
      "Trainable params: 146,020\n",
      "Non-trainable params: 1,472\n",
      "_________________________________________________________________\n",
      "None\n"
     ]
    }
   ],
   "execution_count": 9
  },
  {
   "cell_type": "code",
   "source": "# !pip install git+https://github.com/paulgavrikov/visualkeras --upgrade",
   "metadata": {
    "id": "ICayjbsU_A-N",
    "ExecuteTime": {
     "end_time": "2024-05-27T11:23:46.200797Z",
     "start_time": "2024-05-27T11:23:46.191193Z"
    }
   },
   "outputs": [],
   "execution_count": 8
  },
  {
   "cell_type": "code",
   "source": [
    "import visualkeras\n",
    "visualkeras.layered_view(model, legend=True)"
   ],
   "metadata": {
    "id": "wLj7YEKFvy1R",
    "ExecuteTime": {
     "end_time": "2024-05-27T21:46:28.640908Z",
     "start_time": "2024-05-27T21:46:28.616331Z"
    }
   },
   "outputs": [
    {
     "data": {
      "text/plain": [
       "<PIL.Image.Image image mode=RGBA size=546x198>"
      ],
      "image/png": "[encoded data removed]"
     },
     "execution_count": 9,
     "metadata": {},
     "output_type": "execute_result"
    }
   ],
   "execution_count": 9
  },
  {
   "cell_type": "markdown",
   "source": [
    "# Compile the model\n",
    "- Choose your loss, optimizers, and any other metrics (e.g. Training accuracy, Test accuracy)"
   ],
   "metadata": {
    "id": "TVR54KOzFQfF"
   }
  },
  {
   "cell_type": "code",
   "source": [
    "from keras import optimizers\n",
    "learning_rate = 0.1\n",
    "lr_decay = 1e-6\n",
    "lr_drop = 20\n",
    "\n",
    "# # Optimization details\n",
    "sgd = optimizers.SGD(learning_rate=learning_rate, decay=lr_decay, momentum=0.9, nesterov=True)\n",
    "model.compile(loss='categorical_crossentropy', optimizer=sgd, metrics=['accuracy'])"
   ],
   "metadata": {
    "id": "xTSMB9fDFeW9",
    "ExecuteTime": {
     "end_time": "2024-05-27T21:48:31.862825Z",
     "start_time": "2024-05-27T21:48:31.848315Z"
    }
   },
   "outputs": [],
   "execution_count": 10
  },
  {
   "cell_type": "markdown",
   "source": [
    "# Train the model"
   ],
   "metadata": {
    "id": "jED9H1A6FgbW"
   }
  },
  {
   "cell_type": "code",
   "source": [
    "from keras_preprocessing.image import ImageDataGenerator\n",
    "from keras.callbacks import TensorBoard\n",
    "\n",
    "# Load the TensorBoard notebook extension, do not have to touch this.\n",
    "%load_ext tensorboard\n",
    "\n",
    "def lr_schedule(epoch):\n",
    "    initial_lr = 0.1\n",
    "    drop_factor = 0.5\n",
    "    return initial_lr * (drop_factor ** (epoch // lr_drop))\n",
    "\n",
    "reduce_lr = keras.callbacks.LearningRateScheduler(lr_schedule)\n",
    "\n",
    "# Data augmentation\n",
    "datagen = ImageDataGenerator(\n",
    "    featurewise_center = False,  # set input mean to 0 over the dataset\n",
    "    samplewise_center = False,  # set each sample mean to 0\n",
    "    featurewise_std_normalization = False,  # divide inputs by std of the dataset\n",
    "    samplewise_std_normalization = False,  # divide each input by its std\n",
    "    zca_whitening = False,  # apply ZCA whitening\n",
    "    rotation_range = 15,  # randomly rotate images in the range (degrees, 0 to 180)\n",
    "    width_shift_range = 0.1,  # randomly shift images horizontally (fraction of total width)\n",
    "    height_shift_range = 0.1,  # randomly shift images vertically (fraction of total height)\n",
    "    horizontal_flip = True,  # randomly flip images\n",
    "    vertical_flip = False)  # randomly flip images"
   ],
   "metadata": {
    "id": "HpkN9eZqFh-7",
    "ExecuteTime": {
     "end_time": "2024-05-27T21:48:34.667238Z",
     "start_time": "2024-05-27T21:48:34.638588Z"
    }
   },
   "outputs": [],
   "execution_count": 11
  },
  {
   "metadata": {
    "ExecuteTime": {
     "end_time": "2024-05-27T21:49:10.310507Z",
     "start_time": "2024-05-27T21:49:10.192629Z"
    }
   },
   "cell_type": "code",
   "source": "datagen.fit(x_train)",
   "outputs": [],
   "execution_count": 12
  },
  {
   "metadata": {},
   "cell_type": "code",
   "outputs": [],
   "execution_count": null,
   "source": [
    "# (std, mean, and principal components if ZCA whitening is applied).\n",
    "history = model.fit(\n",
    "    datagen.flow(x_train, y_train, batch_size=batch_size),\n",
    "    steps_per_epoch=x_train.shape[0] // batch_size,\n",
    "    epochs=epochs,\n",
    "    validation_data=(x_test, y_test),\n",
    "    callbacks=[reduce_lr],\n",
    "    verbose=1\n",
    ")"
   ]
  },
  {
   "cell_type": "markdown",
   "source": [
    "Early Stopping\n",
    "\n",
    "* With more epochs, we can decrease our loss over time. This may lead to overfitting.\n",
    "* Early stopping allows us to stop training when there is an increase in the loss value compared to the previous epoch.\n",
    "* Detailed Arguments: https://keras.io/api/callbacks/early_stopping/"
   ],
   "metadata": {
    "id": "1Q7MmfGh1oJM"
   }
  },
  {
   "cell_type": "code",
   "source": [
    "early_stop = EarlyStopping(monitor='val_loss', mode='min', verbose=1, patience=8, restore_best_weights = True)\n",
    "\n",
    "# For the TensorBoard, set the directory you want to save your log.\n",
    "logdir = os.path.join(\"logs\", datetime.datetime.now().strftime(\"%Y%m%d-%H%M%S\")) # log directory will be created\n",
    "tensorboard_callback = tf.keras.callbacks.TensorBoard(logdir, histogram_freq=1)\n",
    "\n",
    "history = model.fit(\n",
    "    x_train, y_train,\n",
    "    batch_size=batch_size,\n",
    "    epochs=100,\n",
    "    verbose=1,\n",
    "    callbacks=[early_stop,tensorboard_callback],\n",
    "    validation_data=(x_test, y_test)\n",
    ")"
   ],
   "metadata": {
    "id": "jbxQ1XKGFhxH",
    "ExecuteTime": {
     "end_time": "2024-05-27T21:57:32.117640Z",
     "start_time": "2024-05-27T21:53:57.526272Z"
    }
   },
   "outputs": [
    {
     "name": "stdout",
     "output_type": "stream",
     "text": [
      "Epoch 1/100\n",
      "391/391 [==============================] - 13s 34ms/step - loss: 2.0399 - accuracy: 0.4562 - val_loss: 1.9162 - val_accuracy: 0.4917\n",
      "Epoch 2/100\n",
      "391/391 [==============================] - 12s 32ms/step - loss: 2.0252 - accuracy: 0.4621 - val_loss: 1.9155 - val_accuracy: 0.4988\n",
      "Epoch 3/100\n",
      "391/391 [==============================] - 14s 36ms/step - loss: 2.0107 - accuracy: 0.4656 - val_loss: 1.9042 - val_accuracy: 0.4951\n",
      "Epoch 4/100\n",
      "391/391 [==============================] - 14s 36ms/step - loss: 1.9993 - accuracy: 0.4654 - val_loss: 1.9147 - val_accuracy: 0.4929\n",
      "Epoch 5/100\n",
      "391/391 [==============================] - 13s 34ms/step - loss: 2.0039 - accuracy: 0.4644 - val_loss: 1.8881 - val_accuracy: 0.5000\n",
      "Epoch 6/100\n",
      "391/391 [==============================] - 13s 33ms/step - loss: 1.9945 - accuracy: 0.4668 - val_loss: 1.9766 - val_accuracy: 0.4900\n",
      "Epoch 7/100\n",
      "391/391 [==============================] - 13s 34ms/step - loss: 1.9886 - accuracy: 0.4685 - val_loss: 1.9091 - val_accuracy: 0.4995\n",
      "Epoch 8/100\n",
      "391/391 [==============================] - 14s 36ms/step - loss: 1.9877 - accuracy: 0.4686 - val_loss: 1.8650 - val_accuracy: 0.4994\n",
      "Epoch 9/100\n",
      "391/391 [==============================] - 14s 37ms/step - loss: 1.9772 - accuracy: 0.4731 - val_loss: 1.8904 - val_accuracy: 0.5028\n",
      "Epoch 10/100\n",
      "391/391 [==============================] - 13s 33ms/step - loss: 1.9802 - accuracy: 0.4729 - val_loss: 1.8823 - val_accuracy: 0.4986\n",
      "Epoch 11/100\n",
      "391/391 [==============================] - 14s 36ms/step - loss: 1.9789 - accuracy: 0.4716 - val_loss: 1.8679 - val_accuracy: 0.5016\n",
      "Epoch 12/100\n",
      "391/391 [==============================] - 13s 32ms/step - loss: 1.9776 - accuracy: 0.4719 - val_loss: 1.9034 - val_accuracy: 0.4947\n",
      "Epoch 13/100\n",
      "391/391 [==============================] - 14s 35ms/step - loss: 1.9710 - accuracy: 0.4748 - val_loss: 1.9109 - val_accuracy: 0.4954\n",
      "Epoch 14/100\n",
      "391/391 [==============================] - 13s 34ms/step - loss: 1.9657 - accuracy: 0.4761 - val_loss: 1.8988 - val_accuracy: 0.4990\n",
      "Epoch 15/100\n",
      "391/391 [==============================] - 13s 33ms/step - loss: 1.9706 - accuracy: 0.4727 - val_loss: 1.8734 - val_accuracy: 0.5095\n",
      "Epoch 16/100\n",
      "389/391 [============================>.] - ETA: 0s - loss: 1.9638 - accuracy: 0.4742Restoring model weights from the end of the best epoch: 8.\n",
      "391/391 [==============================] - 13s 34ms/step - loss: 1.9641 - accuracy: 0.4740 - val_loss: 1.8664 - val_accuracy: 0.5051\n",
      "Epoch 16: early stopping\n"
     ]
    }
   ],
   "execution_count": 14
  },
  {
   "cell_type": "code",
   "source": [
    "# save the model\n",
    "model.save(\"best_conv.h5\")\n",
    "print(\"Model saved successfully\")"
   ],
   "metadata": {
    "id": "wMTyvhmQ442v",
    "ExecuteTime": {
     "end_time": "2024-05-27T23:11:39.836764Z",
     "start_time": "2024-05-27T23:11:39.793179Z"
    }
   },
   "outputs": [
    {
     "name": "stdout",
     "output_type": "stream",
     "text": [
      "Model saved successfully\n"
     ]
    }
   ],
   "execution_count": 15
  },
  {
   "cell_type": "markdown",
   "source": [
    "Basics of Tensorboard, you can change options to change the shapes of scalars.\n",
    "\n",
    "https://colab.research.google.com/github/tensorflow/tensorboard/blob/master/docs/tensorboard_in_notebooks.ipynb"
   ],
   "metadata": {
    "id": "dQsFoKJnHvQA"
   }
  },
  {
   "cell_type": "code",
   "source": "%tensorboard --logdir logs",
   "metadata": {
    "id": "NKRGR86jGE6y",
    "ExecuteTime": {
     "end_time": "2024-05-27T23:11:42.177309Z",
     "start_time": "2024-05-27T23:11:42.148287Z"
    }
   },
   "outputs": [
    {
     "data": {
      "text/plain": [
       "Reusing TensorBoard on port 6006 (pid 13396), started 4:22:47 ago. (Use '!kill 13396' to kill it.)"
      ]
     },
     "metadata": {},
     "output_type": "display_data"
    },
    {
     "data": {
      "text/plain": [
       "<IPython.core.display.HTML object>"
      ],
      "text/html": [
       "\n",
       "      <iframe id=\"tensorboard-frame-388088f8da3e306d\" width=\"100%\" height=\"800\" frameborder=\"0\">\n",
       "      </iframe>\n",
       "      <script>\n",
       "        (function() {\n",
       "          const frame = document.getElementById(\"tensorboard-frame-388088f8da3e306d\");\n",
       "          const url = new URL(\"/\", window.location);\n",
       "          const port = 6006;\n",
       "          if (port) {\n",
       "            url.port = port;\n",
       "          }\n",
       "          frame.src = url;\n",
       "        })();\n",
       "      </script>\n",
       "    "
      ]
     },
     "metadata": {},
     "output_type": "display_data"
    }
   ],
   "execution_count": 16
  },
  {
   "cell_type": "markdown",
   "source": [
    "# Evaluate its performance"
   ],
   "metadata": {
    "id": "vVXtJFqxIBUc"
   }
  },
  {
   "cell_type": "code",
   "source": [
    "score = model.evaluate(x_test, y_test, batch_size=50,\n",
    "                                      steps=x_test.shape[0] // 50)\n",
    "\n",
    "print('Test loss: %.2f' % score[0])\n",
    "print('Test accuracy: %.2f'% score[1])"
   ],
   "metadata": {
    "id": "gC5qYVexIEzT",
    "ExecuteTime": {
     "end_time": "2024-05-27T23:11:50.312141Z",
     "start_time": "2024-05-27T23:11:49.204848Z"
    }
   },
   "outputs": [
    {
     "name": "stdout",
     "output_type": "stream",
     "text": [
      "200/200 [==============================] - 1s 5ms/step - loss: 1.8650 - accuracy: 0.4994\n",
      "Test loss: 1.87\n",
      "Test accuracy: 0.50\n"
     ]
    }
   ],
   "execution_count": 17
  },
  {
   "cell_type": "markdown",
   "source": [
    "## Results"
   ],
   "metadata": {
    "id": "9k8uNFN9Nk3y"
   }
  },
  {
   "cell_type": "markdown",
   "source": [
    "Use matplotlib to draw your results."
   ],
   "metadata": {
    "id": "ivGwUiFxOSvD"
   }
  },
  {
   "cell_type": "code",
   "source": [
    "import matplotlib.pyplot as plt\n",
    "\n",
    "score = model.evaluate(x_test, y_test, verbose=0)\n",
    "print(f'Test loss: {score[0]} / Test accuracy: {score[1]}')\n",
    "\n",
    "plt.figure(figsize=(10, 5))\n",
    "\n",
    "# here we plot our validation curves as an example.\n",
    "\n",
    "# Plot validation loss history\n",
    "plt.subplot(1, 2, 1)\n",
    "plt.plot(history.history['val_loss'], label='Validation Loss')\n",
    "plt.title('Validation loss history')\n",
    "plt.ylabel('Loss value')\n",
    "plt.xlabel('Num. epoch')\n",
    "plt.legend()\n",
    "\n",
    "# Plot validation accuracy history\n",
    "plt.subplot(1, 2, 2)\n",
    "plt.plot(history.history['val_accuracy'], label='Validation Accuracy')\n",
    "plt.title('Validation accuracy history')\n",
    "plt.ylabel('Accuracy value (%)')\n",
    "plt.xlabel('Num. epoch')\n",
    "plt.legend()\n",
    "\n",
    "plt.tight_layout()\n",
    "plt.show()"
   ],
   "metadata": {
    "id": "zZQgc55H4ltg",
    "ExecuteTime": {
     "end_time": "2024-05-27T23:11:57.989145Z",
     "start_time": "2024-05-27T23:11:56.618732Z"
    }
   },
   "outputs": [
    {
     "name": "stdout",
     "output_type": "stream",
     "text": [
      "Test loss: 1.865030288696289 / Test accuracy: 0.49939998984336853\n"
     ]
    },
    {
     "data": {
      "text/plain": [
       "<Figure size 1000x500 with 2 Axes>"
      ],
      "image/png": "[encoded data removed]"
     },
     "metadata": {},
     "output_type": "display_data"
    }
   ],
   "execution_count": 18
  },
  {
   "cell_type": "markdown",
   "source": [
    "Display images and labels here."
   ],
   "metadata": {
    "id": "SJEolhKg9l_G"
   }
  },
  {
   "metadata": {
    "ExecuteTime": {
     "end_time": "2024-05-27T23:12:03.994521Z",
     "start_time": "2024-05-27T23:12:03.978339Z"
    }
   },
   "cell_type": "code",
   "source": [
    "class_labels = [\n",
    "    'apple', 'aquarium_fish', 'baby', 'bear', 'beaver', 'bed', 'bee', 'beetle', 'bicycle', 'bottle',\n",
    "    'bowl', 'boy', 'bridge', 'bus', 'butterfly', 'camel', 'can', 'castle', 'caterpillar', 'cattle',\n",
    "    'chair', 'chimpanzee', 'clock', 'cloud', 'cockroach', 'couch', 'crab', 'crocodile', 'cup', 'dinosaur',\n",
    "    'dolphin', 'elephant', 'flatfish', 'forest', 'fox', 'girl', 'hamster', 'house', 'kangaroo', 'keyboard',\n",
    "    'lamp', 'lawn_mower', 'leopard', 'lion', 'lizard', 'lobster', 'man', 'maple_tree', 'motorcycle', 'mountain',\n",
    "    'mouse', 'mushroom', 'oak_tree', 'orange', 'orchid', 'otter', 'palm_tree', 'pear', 'pickup_truck', 'pine_tree',\n",
    "    'plain', 'plate', 'poppy', 'porcupine', 'possum', 'rabbit', 'raccoon', 'ray', 'road', 'rocket', 'rose', 'sea',\n",
    "    'seal', 'shark', 'shrew', 'skunk', 'skyscraper', 'snail', 'snake', 'spider', 'squirrel', 'streetcar', 'sunflower',\n",
    "    'sweet_pepper', 'table', 'tank', 'telephone', 'television', 'tiger', 'tractor', 'train', 'trout', 'tulip', 'turtle',\n",
    "    'wardrobe', 'whale', 'willow_tree', 'wolf', 'woman', 'worm'\n",
    "]"
   ],
   "outputs": [],
   "execution_count": 19
  },
  {
   "cell_type": "code",
   "source": [
    "# Predict classes\n",
    "predicted_classes = model.predict(x_test)\n",
    "\n",
    "# Get correct and incorrect indices\n",
    "correct_indices = np.nonzero(np.argmax(predicted_classes, axis=1) == np.argmax(y_test, axis=1))[0]\n",
    "incorrect_indices = np.nonzero(np.argmax(predicted_classes, axis=1) != np.argmax(y_test, axis=1))[0]\n",
    "\n",
    "# Display a few images and their labels\n",
    "plt.figure(figsize=(10, 5))\n",
    "for i in range(10):\n",
    "    plt.subplot(2, 5, i + 1)\n",
    "    plt.imshow((x_train[i]).astype(np.uint8))\n",
    "    plt.title(class_labels[int(y_train[i])])\n",
    "    plt.axis('off')\n",
    "\n",
    "plt.show()"
   ],
   "metadata": {
    "id": "VL5JYJYA9pAZ",
    "ExecuteTime": {
     "end_time": "2024-05-27T23:25:30.499093Z",
     "start_time": "2024-05-27T23:25:28.996280Z"
    }
   },
   "outputs": [
    {
     "name": "stdout",
     "output_type": "stream",
     "text": [
      "313/313 [==============================] - 1s 4ms/step\n"
     ]
    },
    {
     "ename": "TypeError",
     "evalue": "only size-1 arrays can be converted to Python scalars",
     "output_type": "error",
     "traceback": [
      "\u001B[1;31m---------------------------------------------------------------------------\u001B[0m",
      "\u001B[1;31mTypeError\u001B[0m                                 Traceback (most recent call last)",
      "Cell \u001B[1;32mIn[22], line 13\u001B[0m\n\u001B[0;32m     11\u001B[0m     plt\u001B[38;5;241m.\u001B[39msubplot(\u001B[38;5;241m2\u001B[39m, \u001B[38;5;241m5\u001B[39m, i \u001B[38;5;241m+\u001B[39m \u001B[38;5;241m1\u001B[39m)\n\u001B[0;32m     12\u001B[0m     plt\u001B[38;5;241m.\u001B[39mimshow((x_train[i])\u001B[38;5;241m.\u001B[39mastype(np\u001B[38;5;241m.\u001B[39muint8))\n\u001B[1;32m---> 13\u001B[0m     plt\u001B[38;5;241m.\u001B[39mtitle(class_labels[\u001B[38;5;28;43mint\u001B[39;49m\u001B[43m(\u001B[49m\u001B[43my_train\u001B[49m\u001B[43m[\u001B[49m\u001B[43mi\u001B[49m\u001B[43m]\u001B[49m\u001B[43m)\u001B[49m])\n\u001B[0;32m     14\u001B[0m     plt\u001B[38;5;241m.\u001B[39maxis(\u001B[38;5;124m'\u001B[39m\u001B[38;5;124moff\u001B[39m\u001B[38;5;124m'\u001B[39m)\n\u001B[0;32m     16\u001B[0m plt\u001B[38;5;241m.\u001B[39mshow()\n",
      "\u001B[1;31mTypeError\u001B[0m: only size-1 arrays can be converted to Python scalars"
     ]
    },
    {
     "data": {
      "text/plain": [
       "<Figure size 1000x500 with 1 Axes>"
      ],
      "image/png": "[encoded data removed]"
     },
     "metadata": {},
     "output_type": "display_data"
    }
   ],
   "execution_count": 22
  },
  {
   "cell_type": "markdown",
   "source": [
    "Here is sample code to help you think through getting the string labels, rather than the one hot encoded prediction output that looks like [0,0,0,0,1,...]."
   ],
   "metadata": {
    "id": "4i19bIo4U2_Z"
   }
  },
  {
   "cell_type": "code",
   "source": [
    "# define the class labels, may need to look them up\n",
    "class_labels = [\n",
    "    'apple', 'aquarium_fish', 'baby', 'bear', 'beaver', 'bed', 'bee', 'beetle', 'bicycle', 'bottle',\n",
    "    'bowl', 'boy', 'bridge', 'bus', 'butterfly', 'camel', 'can', 'castle', 'caterpillar', 'cattle',\n",
    "    'chair', 'chimpanzee', 'clock', 'cloud', 'cockroach', 'couch', 'crab', 'crocodile', 'cup', 'dinosaur',\n",
    "    'dolphin', 'elephant', 'flatfish', 'forest', 'fox', 'girl', 'hamster', 'house', 'kangaroo', 'keyboard',\n",
    "    'lamp', 'lawn_mower', 'leopard', 'lion', 'lizard', 'lobster', 'man', 'maple_tree', 'motorcycle', 'mountain',\n",
    "    'mouse', 'mushroom', 'oak_tree', 'orange', 'orchid', 'otter', 'palm_tree', 'pear', 'pickup_truck', 'pine_tree',\n",
    "    'plain', 'plate', 'poppy', 'porcupine', 'possum', 'rabbit', 'raccoon', 'ray', 'road', 'rocket', 'rose', 'sea',\n",
    "    'seal', 'shark', 'shrew', 'skunk', 'skyscraper', 'snail', 'snake', 'spider', 'squirrel', 'streetcar', 'sunflower',\n",
    "    'sweet_pepper', 'table', 'tank', 'telephone', 'television', 'tiger', 'tractor', 'train', 'trout', 'tulip', 'turtle',\n",
    "    'wardrobe', 'whale', 'willow_tree', 'wolf', 'woman', 'worm'\n",
    "]\n",
    "\n",
    "# test printing and indexing\n",
    "print(class_labels[0])\n",
    "\n",
    "predicted_classes = model.predict(x_test)\n",
    "\n",
    "# returning the label associated with the prediction's index\n",
    "def convert_to_string(predicted_classes, class_labels):\n",
    "    # https://numpy.org/doc/stable/reference/generated/numpy.argmax.htmlax\n",
    "    index = np.argmax(predicted_classes)\n",
    "    return class_labels[index]\n",
    "\n",
    "prediction = [...]\n",
    "label = convert_to_string(prediction, class_labels)\n",
    "\n",
    "print(label)\n"
   ],
   "metadata": {
    "id": "sqDNr813Szq4",
    "ExecuteTime": {
     "end_time": "2024-05-27T21:43:33.619584Z",
     "start_time": "2024-05-27T21:43:32.389543Z"
    }
   },
   "outputs": [
    {
     "name": "stdout",
     "output_type": "stream",
     "text": [
      "baby\n",
      "313/313 [==============================] - 1s 3ms/step\n",
      "apple\n"
     ]
    }
   ],
   "execution_count": 35
  },
  {
   "metadata": {},
   "cell_type": "code",
   "outputs": [],
   "execution_count": null,
   "source": ""
  }
 ]
}
